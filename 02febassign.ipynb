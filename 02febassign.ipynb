{
 "cells": [
  {
   "cell_type": "markdown",
   "id": "27f8a82c-8157-463f-ae5e-1fdf83a0d05b",
   "metadata": {},
   "source": [
    "# Assignment\n",
    "## 02_feb"
   ]
  },
  {
   "cell_type": "markdown",
   "id": "c6a09b7b-32db-4d67-9508-93f5106b7b0c",
   "metadata": {},
   "source": [
    "# Q1. Explain with an example each when to use a for loop and a while loop."
   ]
  },
  {
   "cell_type": "markdown",
   "id": "d029d3c3-ce70-46e4-aa2c-54946eaa24b0",
   "metadata": {},
   "source": [
    "## for loop:\n",
    "### The for loop is a type of loop in Python that is used to iterate over a sequence (such as a list, tuple, or string) and execute a block of code for each item in the sequence. "
   ]
  },
  {
   "cell_type": "code",
   "execution_count": 1,
   "id": "a553c01e-f7f9-4206-9def-aae05c3dbc38",
   "metadata": {},
   "outputs": [],
   "source": [
    "# example\n",
    "# let suppose we have a list\n",
    "l=[1,2,3,4,5,6,7,8,9]\n",
    "# we want to multiply all the numbers by 3 1 by 1 and make a new list with new numbers\n",
    "l1=[]"
   ]
  },
  {
   "cell_type": "code",
   "execution_count": 28,
   "id": "084921fd-8c15-4db3-abf0-fdd8a528998f",
   "metadata": {},
   "outputs": [
    {
     "name": "stdout",
     "output_type": "stream",
     "text": [
      "3\n",
      "6\n",
      "9\n",
      "12\n",
      "15\n",
      "18\n",
      "21\n",
      "24\n",
      "27\n"
     ]
    },
    {
     "data": {
      "text/plain": [
       "[3, 6, 9, 12, 15, 18, 21, 24, 27]"
      ]
     },
     "execution_count": 28,
     "metadata": {},
     "output_type": "execute_result"
    }
   ],
   "source": [
    "for i in l:\n",
    "    print(i*3)\n",
    "    l1.append(i*3)\n",
    "l1"
   ]
  },
  {
   "cell_type": "markdown",
   "id": "40c5183a-39af-487e-96fa-5c54f6a3e7e4",
   "metadata": {},
   "source": [
    "# while loop:\n",
    "## The while loop is a type of loop in Python that allows you to repeat\n",
    "## a block of code as long as a certain condition is true."
   ]
  },
  {
   "cell_type": "code",
   "execution_count": 30,
   "id": "a99d0b77-40cf-4a71-a4b5-c5341b79402f",
   "metadata": {},
   "outputs": [
    {
     "name": "stdout",
     "output_type": "stream",
     "text": [
      "100\n",
      "90\n",
      "80\n",
      "70\n",
      "60\n",
      "below 50\n"
     ]
    }
   ],
   "source": [
    "# let there be a person who have 100Rs and want to donate 10rs to each person but want to stop when he is left with 50RS\n",
    "num = 100\n",
    "while num!=50:\n",
    "    print(num)\n",
    "    num -=10\n",
    "else:\n",
    "    print(\"reached 50\")"
   ]
  },
  {
   "cell_type": "markdown",
   "id": "31efa61f-3cfe-4286-8966-a2a8f2486b7b",
   "metadata": {},
   "source": [
    "type(product)"
   ]
  },
  {
   "cell_type": "markdown",
   "id": "d146ec0f-cbeb-422e-827e-4bcfe173b957",
   "metadata": {},
   "source": [
    "# Q2: Write a python program to print the sum and product of the first 10 natural numbers using for and while loop.\n",
    "## sum of first ten natural numbers\n",
    "## product  of first ten natural numbers"
   ]
  },
  {
   "cell_type": "code",
   "execution_count": 4,
   "id": "5905423a-2ce7-4631-950c-db630a2dcf38",
   "metadata": {},
   "outputs": [
    {
     "name": "stdout",
     "output_type": "stream",
     "text": [
      "sum of first 10 natural numbers:  55\n",
      "product of first 10 natural numbers:  3628800\n",
      "Sum of first 10 natural numbers: 55\n",
      "Product of first 10 natural numbers: 3628800\n"
     ]
    }
   ],
   "source": [
    "# Using for loop\n",
    "sum=0\n",
    "product=1\n",
    "for i in range(1,11):\n",
    "    sum=sum+i\n",
    "    product=product*i\n",
    "print(\"sum of first 10 natural numbers: \",sum) \n",
    "print(\"product of first 10 natural numbers: \",product)\n",
    "\n",
    "# Using while loop\n",
    "sum = 0\n",
    "product = 1\n",
    "i = 1\n",
    "while i <= 10:\n",
    "    sum += i\n",
    "    product *= i\n",
    "    i += 1\n",
    "print(\"Sum of first 10 natural numbers:\", sum)\n",
    "print(\"Product of first 10 natural numbers:\", product)\n"
   ]
  },
  {
   "cell_type": "code",
   "execution_count": null,
   "id": "7f1ee5f9-ebda-4097-b3da-df2e18de612d",
   "metadata": {},
   "outputs": [],
   "source": []
  },
  {
   "cell_type": "markdown",
   "id": "71da0a55-328f-4291-849a-c5e262c17569",
   "metadata": {},
   "source": [
    "## Q3: Create a python program to compute the electricity bill for a household.\n",
    "## The per-unit charges in rupees are as follows: For the first 100 units, the user will be charged Rs. 4.5 per\n",
    "## unit, for the next 100 units, the user will be charged Rs. 6 per unit, and for the next 100 units, the user will\n",
    "## be charged Rs. 10 per unit, After 300 units and above the user will be charged Rs. 20 per unit.\n",
    "## You are required to take the units of electricity consumed in a month from the user as input.\n",
    "## Your program must pass this test case: when the unit of electricity consumed by the user in a month is\n",
    "## 310, the total electricity bill should be 2250.'''"
   ]
  },
  {
   "cell_type": "code",
   "execution_count": 1,
   "id": "481cced4-4a1b-45a8-82d9-781be5727c3f",
   "metadata": {},
   "outputs": [
    {
     "name": "stdin",
     "output_type": "stream",
     "text": [
      "Enter the number of units consumed:  200\n"
     ]
    },
    {
     "name": "stdout",
     "output_type": "stream",
     "text": [
      "Electricity bill: Rs. 1050.0\n"
     ]
    }
   ],
   "source": [
    "def electricity_bill(units):\n",
    "    if units <= 100:\n",
    "        bill = units * 4.5\n",
    "    elif units <= 200:\n",
    "        bill = 100 * 4.5 + (units - 100) * 6\n",
    "    elif units <= 300:\n",
    "        bill = 100 * 4.5 + 100 * 6 + (units - 200) * 10\n",
    "    else:\n",
    "        bill = 100 * 4.5 + 100 * 6 + 100 * 10 + (units - 300) * 20\n",
    "    return bill\n",
    "\n",
    "units = int(input(\"Enter the number of units consumed: \"))\n",
    "bill = electricity_bill(units)\n",
    "print(\"Electricity bill: Rs.\", bill)"
   ]
  },
  {
   "cell_type": "markdown",
   "id": "1b0971d1-43f2-4ed8-9bf9-23c9b19e0ec1",
   "metadata": {},
   "source": [
    "## Q4. Create a list of numbers from 1 to 100. Use for loop and while loop to calculate the cube of each\n",
    "## number and if the cube of that number is divisible by 4 or 5 then append that number in a list and print\n",
    "## that list.Q4. Create a list of numbers from 1 to 100. Use for loop and while loop to calculate the cube of each\n",
    "## number and if the cube of that number is divisible by 4 or 5 then append that number in a list and print\n",
    "## that list."
   ]
  },
  {
   "cell_type": "code",
   "execution_count": 2,
   "id": "4b16f9dc-878d-446f-b08d-c6c3b3f3dba2",
   "metadata": {},
   "outputs": [
    {
     "name": "stdout",
     "output_type": "stream",
     "text": [
      "Numbers with cubes divisible by 4 or 5: [2, 4, 5, 6, 8, 10, 12, 14, 15, 16, 18, 20, 22, 24, 25, 26, 28, 30, 32, 34, 35, 36, 38, 40, 42, 44, 45, 46, 48, 50, 52, 54, 55, 56, 58, 60, 62, 64, 65, 66, 68, 70, 72, 74, 75, 76, 78, 80, 82, 84, 85, 86, 88, 90, 92, 94, 95, 96, 98, 100]\n",
      "Numbers with cubes divisible by 4 or 5: [2, 4, 5, 6, 8, 10, 12, 14, 15, 16, 18, 20, 22, 24, 25, 26, 28, 30, 32, 34, 35, 36, 38, 40, 42, 44, 45, 46, 48, 50, 52, 54, 55, 56, 58, 60, 62, 64, 65, 66, 68, 70, 72, 74, 75, 76, 78, 80, 82, 84, 85, 86, 88, 90, 92, 94, 95, 96, 98, 100]\n"
     ]
    }
   ],
   "source": [
    "def calc_cube(num):\n",
    "    return num**3\n",
    "\n",
    "numbers = []\n",
    "for i in range(1, 101):\n",
    "    cube = calc_cube(i)\n",
    "    if cube % 4 == 0 or cube % 5 == 0:\n",
    "        numbers.append(i)\n",
    "print(\"Numbers with cubes divisible by 4 or 5:\", numbers)\n",
    "\n",
    "# Using while loop\n",
    "numbers = []\n",
    "i = 1\n",
    "while i <= 100:\n",
    "    cube = calc_cube(i)\n",
    "    if cube % 4 == 0 or cube % 5 == 0:\n",
    "        numbers.append(i)\n",
    "    i += 1\n",
    "print(\"Numbers with cubes divisible by 4 or 5:\", numbers)\n"
   ]
  },
  {
   "cell_type": "markdown",
   "id": "fae2e645-bfce-42cf-86a8-498d89c8f690",
   "metadata": {},
   "source": [
    "## Q5. Write a program to filter count vowels in the below-given string.\n",
    "## string = \"I want to become a data scientist\""
   ]
  },
  {
   "cell_type": "code",
   "execution_count": 3,
   "id": "90533e1c-ae40-4c22-8e41-8570c2d96b98",
   "metadata": {},
   "outputs": [
    {
     "name": "stdout",
     "output_type": "stream",
     "text": [
      "Number of vowels in the string: 12\n"
     ]
    }
   ],
   "source": [
    "string = \"I want to become a data scientist\"\n",
    "vowels = \"aeiouAEIOU\"\n",
    "count = 0\n",
    "for char in string:\n",
    "    if char in vowels:\n",
    "        count += 1\n",
    "print(\"Number of vowels in the string:\", count)"
   ]
  },
  {
   "cell_type": "code",
   "execution_count": null,
   "id": "d48d98ec-e048-4756-882a-2bbb953b10eb",
   "metadata": {},
   "outputs": [],
   "source": []
  }
 ],
 "metadata": {
  "kernelspec": {
   "display_name": "Python 3 (ipykernel)",
   "language": "python",
   "name": "python3"
  },
  "language_info": {
   "codemirror_mode": {
    "name": "ipython",
    "version": 3
   },
   "file_extension": ".py",
   "mimetype": "text/x-python",
   "name": "python",
   "nbconvert_exporter": "python",
   "pygments_lexer": "ipython3",
   "version": "3.10.6"
  }
 },
 "nbformat": 4,
 "nbformat_minor": 5
}
